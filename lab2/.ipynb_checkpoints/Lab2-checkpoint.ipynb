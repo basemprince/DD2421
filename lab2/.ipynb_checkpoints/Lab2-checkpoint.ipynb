{
 "cells": [
  {
   "cell_type": "code",
   "execution_count": 1,
   "metadata": {
    "scrolled": true
   },
   "outputs": [],
   "source": [
    "import numpy as np, random, math\n",
    "from scipy.optimize import minimize\n",
    "import matplotlib.pyplot as plt\n",
    "import collections"
   ]
  },
  {
   "cell_type": "markdown",
   "metadata": {},
   "source": [
    "&bull; Wirte a code for structuring the data so that the library routine can find the maximal-margin solution.<br>\n",
    "&bull; The location of the decesion boundary is given by the weights (w) and the bias (b).<br>\n",
    "&bull; Find the values for w and b which maximizes the margin (distance to any datapoint).\n",
    "<img src=\"equations/optimize.png\">"
   ]
  },
  {
   "cell_type": "markdown",
   "metadata": {},
   "source": [
    "&bull; &uarr; C value will result in &darr; Slack, which will result in narrower margin\n",
    "\n",
    "&bull; If you have noisy data -> use low C value to allow for more slack"
   ]
  },
  {
   "cell_type": "markdown",
   "metadata": {},
   "source": [
    "# Variables:"
   ]
  },
  {
   "cell_type": "code",
   "execution_count": 2,
   "metadata": {
    "scrolled": true
   },
   "outputs": [],
   "source": [
    "C = 2\n",
    "upper = True # upper boundary for bounds\n",
    "threshold = 10**-5 # zero threshold\n",
    "kernelType = 'lin' # type of kernel (lin,pol,RBF)\n",
    "np.random.seed(100)\n",
    "pointsN=40 # number of data points\n",
    "SD = 0.2 #standard Deviation in the data\n",
    "#kernel settings\n",
    "pol = 2 #polynomial degree\n",
    "sigma = 2 #smoothness of curve in RBF kernel"
   ]
  },
  {
   "cell_type": "markdown",
   "metadata": {},
   "source": [
    "&bull; The objective equation (dual formulation)\n",
    "<img src=\"equations/objective.png\">\n",
    "\n",
    "&bull; The optimization problem can be transformed into a different form, called the dual problem, which has some computational advantages.<br>\n",
    "&bull; It makes it possible to use the kernel trick, which eleminates the need for evualuating the transformation function."
   ]
  },
  {
   "cell_type": "code",
   "execution_count": 3,
   "metadata": {
    "scrolled": true
   },
   "outputs": [],
   "source": [
    "def objective (alpha):\n",
    "    return 0.5*np.dot(alpha,np.dot(alpha,pre_compute)) - np.sum(alpha)"
   ]
  },
  {
   "cell_type": "markdown",
   "metadata": {},
   "source": [
    "the Kernel equations:\n",
    "<img src=\"equations/linearK.png\">\n",
    "<img src=\"equations/polynomialK.png\">\n",
    "<img src=\"equations/RBFK.png\">"
   ]
  },
  {
   "cell_type": "code",
   "execution_count": 4,
   "metadata": {
    "scrolled": true
   },
   "outputs": [],
   "source": [
    "def kernel(a,b,pol,sigma):\n",
    "    if kernelType == 'lin':\n",
    "        return np.dot(a,b)\n",
    "    \n",
    "    elif kernelType == 'pol':\n",
    "        return (np.dot(a,b) + 1)**pol\n",
    "    \n",
    "    elif kernelType == 'RBF':\n",
    "        return math.exp(-np.linalg.norm(np.subtract(a,b),ord=2)/(2*sigma**2))\n",
    "    else:\n",
    "        raise Exception(\"Kernel not found\")"
   ]
  },
  {
   "cell_type": "markdown",
   "metadata": {},
   "source": [
    "Lagrange multiplier constraints:\n",
    "<img src=\"equations/constraint.png\">"
   ]
  },
  {
   "cell_type": "code",
   "execution_count": 5,
   "metadata": {
    "scrolled": true
   },
   "outputs": [],
   "source": [
    "def zerofun (alpha):\n",
    "    \n",
    "    return np.dot(alpha,targets)"
   ]
  },
  {
   "cell_type": "markdown",
   "metadata": {},
   "source": [
    "bias (b) Value:\n",
    "<img src=\"equations/b.png\">"
   ]
  },
  {
   "cell_type": "code",
   "execution_count": 6,
   "metadata": {
    "scrolled": true
   },
   "outputs": [],
   "source": [
    "def b_calculator(non_zero):\n",
    "    b = 0\n",
    "    for current in non_zero:\n",
    "        b += current['alpha']*current['t']*kernel(non_zero[2]['in'],current['in'],pol,sigma)\n",
    "    return b - non_zero[2]['t']"
   ]
  },
  {
   "cell_type": "markdown",
   "metadata": {},
   "source": [
    "indicator equation:\n",
    "<img src=\"equations/indicator.png\">"
   ]
  },
  {
   "cell_type": "code",
   "execution_count": 7,
   "metadata": {
    "scrolled": true
   },
   "outputs": [],
   "source": [
    "def indicator(non_zero,unkown,b):\n",
    "    ind = 0\n",
    "    for current in non_zero:\n",
    "        ind += current['alpha']*current['t']*kernel(unkown,current['in'],pol,sigma)\n",
    "    return ind - b"
   ]
  },
  {
   "cell_type": "code",
   "execution_count": 8,
   "metadata": {
    "scrolled": true
   },
   "outputs": [],
   "source": [
    "classA = np.concatenate((np.random.randn(int(pointsN/2),2)*SD+[1.5,0.5],\n",
    "                        np.random.rand(int(pointsN/2),2)*SD+[-1.5,0.5]))\n",
    "classB = np.random.randn(pointsN,2)*SD+[0.0,-0.5]\n",
    "\n",
    "inputs = np.concatenate ((classA,classB))\n",
    "targets = np.concatenate (\n",
    "(np.ones(classA.shape[0]),\n",
    "-np.ones(classB.shape[0])))\n",
    "\n",
    "N = inputs.shape[0]\n",
    "\n",
    "permute = list(range(N))\n",
    "random.shuffle(permute)\n",
    "inputs = inputs[permute, :]\n",
    "targets = targets [permute]"
   ]
  },
  {
   "cell_type": "code",
   "execution_count": 9,
   "metadata": {
    "scrolled": true
   },
   "outputs": [],
   "source": [
    "pre_compute = np.zeros(shape=(N,N))\n",
    "for i in range(N):\n",
    "    for j in range(N):\n",
    "        pre_compute[i][j]=targets[i]*targets[j]*kernel(inputs[i],inputs[j],pol,sigma)"
   ]
  },
  {
   "cell_type": "code",
   "execution_count": 10,
   "metadata": {
    "scrolled": true
   },
   "outputs": [
    {
     "data": {
      "image/png": "[encoded data removed]",
      "text/plain": [
       "<Figure size 432x288 with 1 Axes>"
      ]
     },
     "metadata": {
      "needs_background": "light"
     },
     "output_type": "display_data"
    }
   ],
   "source": [
    "plt.plot([p[0] for p in classA],\n",
    "        [p[1] for p in classA],\n",
    "        'b.')\n",
    "plt.plot([p[0] for p in classB],\n",
    "        [p[1] for p in classB],\n",
    "        'r.')\n",
    "\n",
    "plt.axis('equal')\n",
    "plt.savefig('svmplot.pdf')\n",
    "plt.show()"
   ]
  },
  {
   "cell_type": "code",
   "execution_count": 15,
   "metadata": {
    "scrolled": true
   },
   "outputs": [
    {
     "name": "stdout",
     "output_type": "stream",
     "text": [
      "zero_function result:  -7.918998790046317e-12\n",
      "     fun: -5.7029113115514685\n",
      "     jac: array([ 8.05281758e-01,  1.24000126e+00,  2.34332144e-01,  7.40598440e-02,\n",
      "        1.08565658e+00,  2.16193795e-02, -1.55594945e-02,  1.01008964e+00,\n",
      "        1.85004199e+00,  1.26616716e-01,  1.09560883e+00,  1.13087648e+00,\n",
      "        1.69343960e+00,  3.13437045e-01,  3.32902253e-01,  8.88785064e-01,\n",
      "        2.84884810e-01,  6.12737775e-01,  4.18366909e-01,  1.15828693e+00,\n",
      "        9.58604217e-02,  1.11000943e+00,  1.25480115e-01,  3.95203412e-01,\n",
      "        3.52091849e-01,  6.65251911e-01,  1.22893035e+00,  2.16983020e-01,\n",
      "        3.55860114e-01,  1.83596790e+00,  1.18425363e+00,  5.79886079e-01,\n",
      "        5.79975903e-01,  3.68091702e-01,  5.12683153e-01,  3.01524341e-01,\n",
      "        6.86210454e-01,  1.55882537e-01,  5.47994018e-01,  9.63763058e-01,\n",
      "        3.11794996e-01,  5.13954997e-01, -7.01367855e-03,  1.68916404e-01,\n",
      "        1.42785019e+00,  1.38428152e-01,  8.65891933e-01,  4.31334615e-01,\n",
      "       -7.43649602e-02,  2.43564188e-01,  3.68536294e-01,  1.29320890e+00,\n",
      "        4.82727468e-01,  1.30405921e+00,  4.41799402e-01,  2.22717464e-01,\n",
      "        1.11199081e-01,  9.26201940e-02,  1.16434652e+00,  8.22554290e-01,\n",
      "        2.11214423e-01,  1.12328130e+00,  7.36045837e-02,  5.48956931e-01,\n",
      "        4.47573602e-01,  1.00120604e-01, -6.48494661e-01,  3.84693623e-01,\n",
      "        8.59570682e-01,  6.16109669e-01,  3.59375477e-02, -2.03155696e-01,\n",
      "        1.11370653e+00,  1.00578713e+00,  6.01421177e-01,  1.92315280e-01,\n",
      "        1.41941041e+00, -2.40504742e-04,  3.93214822e-01, -6.93722367e-02])\n",
      " message: 'Optimization terminated successfully'\n",
      "    nfev: 2189\n",
      "     nit: 27\n",
      "    njev: 27\n",
      "  status: 0\n",
      " success: True\n",
      "       x: array([0.00000000e+00, 0.00000000e+00, 1.40224094e-12, 5.30896699e-01,\n",
      "       0.00000000e+00, 4.34544193e-12, 5.14584061e-12, 0.00000000e+00,\n",
      "       0.00000000e+00, 2.75897590e-12, 0.00000000e+00, 0.00000000e+00,\n",
      "       0.00000000e+00, 0.00000000e+00, 0.00000000e+00, 0.00000000e+00,\n",
      "       4.15920719e-12, 0.00000000e+00, 0.00000000e+00, 0.00000000e+00,\n",
      "       1.61856082e-12, 0.00000000e+00, 2.75614432e-12, 0.00000000e+00,\n",
      "       0.00000000e+00, 0.00000000e+00, 0.00000000e+00, 4.51690172e-12,\n",
      "       0.00000000e+00, 0.00000000e+00, 0.00000000e+00, 0.00000000e+00,\n",
      "       0.00000000e+00, 0.00000000e+00, 0.00000000e+00, 0.00000000e+00,\n",
      "       0.00000000e+00, 1.34476227e-12, 0.00000000e+00, 0.00000000e+00,\n",
      "       8.24621923e-13, 0.00000000e+00, 2.00000000e+00, 8.60368725e-13,\n",
      "       0.00000000e+00, 1.79900973e-12, 0.00000000e+00, 0.00000000e+00,\n",
      "       8.79971197e-01, 9.50650057e-14, 0.00000000e+00, 0.00000000e+00,\n",
      "       0.00000000e+00, 0.00000000e+00, 0.00000000e+00, 2.99209946e-13,\n",
      "       0.00000000e+00, 0.00000000e+00, 0.00000000e+00, 0.00000000e+00,\n",
      "       4.91964581e-13, 0.00000000e+00, 3.49074498e-01, 0.00000000e+00,\n",
      "       0.00000000e+00, 0.00000000e+00, 2.00000000e+00, 2.87671594e-12,\n",
      "       0.00000000e+00, 0.00000000e+00, 2.00000000e+00, 2.00000000e+00,\n",
      "       0.00000000e+00, 0.00000000e+00, 0.00000000e+00, 6.65751561e-13,\n",
      "       0.00000000e+00, 5.43241783e-12, 0.00000000e+00, 0.00000000e+00])\n"
     ]
    }
   ],
   "source": [
    "initial_guess = np.zeros(N)\n",
    "\n",
    "\n",
    "if upper:\n",
    "    B= [(0,C) for b in range(N)]\n",
    "else:\n",
    "    B= [(0,None) for b in range(N)]\n",
    "\n",
    "XC = {'type':'eq','fun':zerofun}\n",
    "\n",
    "ret = minimize(objective,initial_guess,bounds=B,constraints=XC)\n",
    "\n",
    "alpha = ret['x']\n",
    "print (\"zero_function result: \", np.dot(alpha,targets))\n",
    "print(ret)"
   ]
  },
  {
   "cell_type": "code",
   "execution_count": 12,
   "metadata": {
    "scrolled": true
   },
   "outputs": [
    {
     "data": {
      "text/plain": [
       "[{'alpha': 0.5308966989805145,\n",
       "  'in': array([-1.37401162,  0.52852006]),\n",
       "  't': 1.0},\n",
       " {'alpha': 2.0, 'in': array([1.73792445, 0.16187663]), 't': 1.0},\n",
       " {'alpha': 0.8799711966953416,\n",
       "  'in': array([ 0.31723419, -0.36132187]),\n",
       "  't': -1.0},\n",
       " {'alpha': 0.3490744977108462,\n",
       "  'in': array([1.54447992, 0.2113566 ]),\n",
       "  't': 1.0},\n",
       " {'alpha': 2.0, 'in': array([-0.3081232 , -0.09065721]), 't': -1.0},\n",
       " {'alpha': 2.0, 'in': array([-1.39826022,  0.51769203]), 't': 1.0},\n",
       " {'alpha': 2.0, 'in': array([ 0.25925252, -0.30954487]), 't': -1.0}]"
      ]
     },
     "execution_count": 12,
     "metadata": {},
     "output_type": "execute_result"
    }
   ],
   "source": [
    "non_zero = []\n",
    "for i, a in enumerate(alpha):\n",
    "    #print(a)\n",
    "    if a > threshold:\n",
    "        non_zero.append({'alpha':a,'in':inputs[i],'t':targets[i]})\n",
    "non_zero"
   ]
  },
  {
   "cell_type": "code",
   "execution_count": 13,
   "metadata": {
    "scrolled": true
   },
   "outputs": [],
   "source": [
    "b = b_calculator(non_zero)"
   ]
  },
  {
   "cell_type": "code",
   "execution_count": 14,
   "metadata": {
    "scrolled": true
   },
   "outputs": [
    {
     "data": {
      "image/png": "[encoded data removed]",
      "text/plain": [
       "<Figure size 432x288 with 1 Axes>"
      ]
     },
     "metadata": {
      "needs_background": "light"
     },
     "output_type": "display_data"
    }
   ],
   "source": [
    "x_limits = 4\n",
    "y_limits = 5\n",
    "xgrid = np.linspace(-x_limits,x_limits)\n",
    "ygrid = np.linspace(-y_limits,y_limits)\n",
    "\n",
    "grid = np.array([[indicator(non_zero,[x,y],b)\n",
    "                 for x in xgrid]\n",
    "                for y in ygrid])\n",
    "if ret['success']==True:\n",
    "    plt.plot([p[0] for p in classA],\n",
    "            [p[1] for p in classA],\n",
    "            'b.')\n",
    "    plt.plot([p[0] for p in classB],\n",
    "            [p[1] for p in classB],\n",
    "            'r.')\n",
    "\n",
    "    plt.contour(xgrid,ygrid,grid,\n",
    "               (-1.0,0.0,1.0),\n",
    "               colors=('red','black','blue'),\n",
    "               linewidths=(1,3,1))\n",
    "\n",
    "\n",
    "    plt.axis('equal')\n",
    "    plt.savefig('svmplot.pdf')\n",
    "    plt.show()\n",
    "else:\n",
    "    print('Minimization failed succesfully')"
   ]
  },
  {
   "cell_type": "markdown",
   "metadata": {},
   "source": [
    "# ASSIGNMENT QUESTIONS"
   ]
  },
  {
   "cell_type": "markdown",
   "metadata": {},
   "source": [
    "<u><b>Question 1:</b></u> Move the clusters around and change their sizes to make it easier or harder for the classifier to find a decent boundary. Pay attention to when the optimizer (minimize function) is not able to find a solution at all. <br><br>\n",
    "<b>Answer:</b> The optimizer was not able to find a solution once the standard deviation went over 0.6. The higher the standard deviation generated data that cannot be separated with a straight line. XC constraint is not equal to zero.\n",
    "<img src=\"equations/SD.png\">"
   ]
  },
  {
   "cell_type": "markdown",
   "metadata": {},
   "source": [
    "<u><b>Question 2:</u></b> Implement the two non-linear kernels. You should be able to classify very hard data sets with these. <br><br>\n",
    "<u><b>Answer:</u></b> <br>\n",
    "Polynomial Kernel (400 datapoints,0.3SD)<img src=\"equations/pol-1.png\">\n",
    "RBF Kernel (40 datapoints,1.2SD)<img src=\"equations/RBF-1.png\">"
   ]
  },
  {
   "cell_type": "markdown",
   "metadata": {},
   "source": [
    "<u><b>Question 3:</u></b> The non-linear kernels have parameters; explore how they influence the decision boundary. Reason about this in terms of the bias- variance trade-off. <br><br>\n",
    "<u><b>Answer:</u></b> <br>"
   ]
  },
  {
   "cell_type": "markdown",
   "metadata": {},
   "source": [
    "<u><b>Question 4:</u></b> Explore the role of the slack parameter C. What happens for very large/small values?<br><br>\n",
    "<u><b>Answer:</u></b> <br>\n",
    "&bull; the C parameter sets the upper boundary on the alpha values. Lower C value allows for points to be within the margin. (see fig, C=2)<br>\n",
    "&bull; &uarr; C value will result in &darr; Slack, which will result in narrower margin.<br>\n",
    "&bull; If you have noisy data -> use low C value to allow for more slack\n",
    "<img src=\"equations/C-1.png\">"
   ]
  },
  {
   "cell_type": "markdown",
   "metadata": {},
   "source": [
    "<u><b>Question 5:</u></b> Imagine that you are given data that is not easily separable. When should you opt for more slack rather than going for a more complex model (kernel) and vice versa?<br><br>\n",
    "<u><b>Answer:</u></b> <br>"
   ]
  },
  {
   "cell_type": "code",
   "execution_count": null,
   "metadata": {},
   "outputs": [],
   "source": []
  }
 ],
 "metadata": {
  "kernelspec": {
   "display_name": "Python 3",
   "language": "python",
   "name": "python3"
  },
  "language_info": {
   "codemirror_mode": {
    "name": "ipython",
    "version": 3
   },
   "file_extension": ".py",
   "mimetype": "text/x-python",
   "name": "python",
   "nbconvert_exporter": "python",
   "pygments_lexer": "ipython3",
   "version": "3.6.9"
  }
 },
 "nbformat": 4,
 "nbformat_minor": 4
}
