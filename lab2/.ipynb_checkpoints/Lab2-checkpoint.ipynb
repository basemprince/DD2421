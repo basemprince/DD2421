{
 "cells": [
  {
   "cell_type": "code",
   "execution_count": 1,
   "metadata": {},
   "outputs": [],
   "source": [
    "import numpy as np, random, math\n",
    "from scipy.optimize import minimize\n",
    "import matplotlib.pyplot as plt\n",
    "import collections"
   ]
  },
  {
   "cell_type": "markdown",
   "metadata": {},
   "source": [
    "<img src=\"quations/objective.png\">"
   ]
  },
  {
   "cell_type": "code",
   "execution_count": 2,
   "metadata": {},
   "outputs": [],
   "source": [
    "C = 1000\n",
    "upper = False\n",
    "threshold = 10**-5\n",
    "kernelType = 'pol'"
   ]
  },
  {
   "cell_type": "code",
   "execution_count": 3,
   "metadata": {},
   "outputs": [],
   "source": [
    "def kernel(a,b,pol=2,sigma=2):\n",
    "    if kernelType == 'lin':\n",
    "        return np.dot(a,b)\n",
    "    \n",
    "    elif kernelType == 'pol':\n",
    "        return (np.dot(a,b) + 1)**pol\n",
    "    \n",
    "    elif kernelType == 'RBF':\n",
    "        return math.exp(-np.linalg.norm(np.subtract(a,b),ord=2)/(2*sigma**2))\n",
    "    else:\n",
    "        raise Exception(\"Kernel not found\")"
   ]
  },
  {
   "cell_type": "code",
   "execution_count": 4,
   "metadata": {},
   "outputs": [],
   "source": [
    "def objective (alpha):\n",
    "    return 0.5*np.dot(alpha,np.dot(alpha,pre_compute)) - np.sum(alpha)"
   ]
  },
  {
   "cell_type": "code",
   "execution_count": 5,
   "metadata": {},
   "outputs": [],
   "source": [
    "def zerofun (alpha):\n",
    "    return np.dot(alpha,targets)"
   ]
  },
  {
   "cell_type": "code",
   "execution_count": 6,
   "metadata": {},
   "outputs": [],
   "source": [
    "def b_calculator(non_zero):\n",
    "    b = 0\n",
    "    for current in non_zero:\n",
    "        b += current['alpha']*current['t']*kernel(non_zero[0]['in'],current['in'])\n",
    "    return b - non_zero[0]['t']"
   ]
  },
  {
   "cell_type": "code",
   "execution_count": 7,
   "metadata": {},
   "outputs": [],
   "source": [
    "def indicator(non_zero,unkown,b):\n",
    "    ind = 0\n",
    "    for current in non_zero:\n",
    "        ind += current['alpha']*current['t']*kernel(unkown,current['in'])\n",
    "    return ind - b    \n",
    "    "
   ]
  },
  {
   "cell_type": "code",
   "execution_count": 8,
   "metadata": {},
   "outputs": [],
   "source": [
    "np.random.seed(100)\n",
    "classA = np.concatenate((np.random.randn(10,2)*0.2+[1.5,0.5],\n",
    "                        np.random.rand(10,2)*0.2+[-1.5,0.5]))\n",
    "classB = np.random.randn(20,2)*0.2+[0.0,-0.5]\n",
    "\n",
    "inputs = np.concatenate ((classA,classB))\n",
    "targets = np.concatenate (\n",
    "(np.ones(classA.shape[0]),\n",
    "-np.ones(classB.shape[0])))\n",
    "\n",
    "N = inputs.shape[0]\n",
    "\n",
    "permute = list(range(N))\n",
    "random.shuffle(permute)\n",
    "inputs = inputs[permute, :]\n",
    "targets = targets [permute]"
   ]
  },
  {
   "cell_type": "code",
   "execution_count": 9,
   "metadata": {},
   "outputs": [],
   "source": [
    "pre_compute = np.zeros(shape=(N,N))\n",
    "for i in range(N):\n",
    "    for j in range(N):\n",
    "        pre_compute[i][j]=targets[i]*targets[j]*kernel(inputs[i],inputs[j])"
   ]
  },
  {
   "cell_type": "code",
   "execution_count": 10,
   "metadata": {
    "scrolled": true
   },
   "outputs": [
    {
     "data": {
      "image/png": "[encoded data removed]",
      "text/plain": [
       "<Figure size 432x288 with 1 Axes>"
      ]
     },
     "metadata": {
      "needs_background": "light"
     },
     "output_type": "display_data"
    }
   ],
   "source": [
    "plt.plot([p[0] for p in classA],\n",
    "        [p[1] for p in classA],\n",
    "        'b.')\n",
    "plt.plot([p[0] for p in classB],\n",
    "        [p[1] for p in classB],\n",
    "        'r.')\n",
    "\n",
    "plt.axis('equal')\n",
    "plt.savefig('svmplot.pdf')\n",
    "plt.show()"
   ]
  },
  {
   "cell_type": "code",
   "execution_count": 11,
   "metadata": {},
   "outputs": [
    {
     "name": "stdout",
     "output_type": "stream",
     "text": [
      "     fun: -0.612351976631758\n",
      "     jac: array([-0.5756051 ,  0.83963782, -0.44740749,  1.99115012, -0.66675974,\n",
      "        1.56690935, -0.74020437,  1.45840415, -0.42644485,  1.08997301,\n",
      "       -0.83814964,  2.27916159, -0.59880433, -0.38637787,  1.00602029,\n",
      "       -0.47831618,  1.14861992,  0.83840582, -0.48279946, -0.76815932,\n",
      "        1.01007838, -0.4368789 ,  1.21023406,  0.90818583, -0.47700442,\n",
      "       -0.56547859,  1.31762869,  1.3264474 ,  1.46309736, -0.62095631,\n",
      "        1.5766502 , -0.69382595, -0.46706018,  2.26044884, -0.46268971,\n",
      "       -0.49176946,  1.3420903 ,  1.49534746, -0.66314998,  1.52813822])\n",
      " message: 'Optimization terminated successfully'\n",
      "    nfev: 413\n",
      "     nit: 10\n",
      "    njev: 10\n",
      "  status: 0\n",
      " success: True\n",
      "       x: array([5.14648831e-17, 2.83671800e-01, 3.73421231e-16, 7.79345472e-16,\n",
      "       6.60239546e-16, 0.00000000e+00, 0.00000000e+00, 0.00000000e+00,\n",
      "       9.35977387e-17, 1.07762131e-16, 6.12605166e-01, 3.01177503e-16,\n",
      "       2.89327126e-16, 7.03804993e-16, 7.39870104e-16, 0.00000000e+00,\n",
      "       4.35445506e-16, 3.28933366e-01, 7.02147530e-16, 4.85933278e-15,\n",
      "       0.00000000e+00, 5.79385456e-17, 3.01227744e-16, 0.00000000e+00,\n",
      "       0.00000000e+00, 0.00000000e+00, 8.87241733e-16, 2.97795942e-16,\n",
      "       0.00000000e+00, 3.42171317e-17, 4.22151578e-16, 0.00000000e+00,\n",
      "       5.71708255e-17, 5.24266263e-16, 5.41772821e-16, 2.69802785e-16,\n",
      "       1.17317108e-15, 1.67939189e-16, 0.00000000e+00, 1.05541580e-16])\n"
     ]
    }
   ],
   "source": [
    "initial_guess = np.zeros(N)\n",
    "\n",
    "\n",
    "if upper:\n",
    "    B= [(0,C) for b in range(N)]\n",
    "else:\n",
    "    B= [(0,None) for b in range(N)]\n",
    "\n",
    "XC = {'type':'eq','fun':zerofun}\n",
    "\n",
    "ret = minimize(objective,initial_guess,bounds=B,constraints=XC)\n",
    "alpha = ret['x']\n",
    "print(ret)"
   ]
  },
  {
   "cell_type": "code",
   "execution_count": 12,
   "metadata": {},
   "outputs": [
    {
     "data": {
      "text/plain": [
       "[{'alpha': 0.2836717996717516,\n",
       "  'in': array([1.15004691, 0.56853608]),\n",
       "  't': 1.0},\n",
       " {'alpha': 0.6126051655236653,\n",
       "  'in': array([-0.3227157 , -0.20585723]),\n",
       "  't': -1.0},\n",
       " {'alpha': 0.3289333658519172,\n",
       "  'in': array([-1.30381583,  0.5119884 ]),\n",
       "  't': 1.0}]"
      ]
     },
     "execution_count": 12,
     "metadata": {},
     "output_type": "execute_result"
    }
   ],
   "source": [
    "non_zero = []\n",
    "for i, a in enumerate(alpha):\n",
    "    #print(a)\n",
    "    if a > threshold:\n",
    "        non_zero.append({'alpha':a,'in':inputs[i],'t':targets[i]})\n",
    "non_zero"
   ]
  },
  {
   "cell_type": "code",
   "execution_count": 13,
   "metadata": {},
   "outputs": [],
   "source": [
    "b = b_calculator(non_zero)"
   ]
  },
  {
   "cell_type": "code",
   "execution_count": 14,
   "metadata": {},
   "outputs": [
    {
     "data": {
      "image/png": "[encoded data removed]",
      "text/plain": [
       "<Figure size 432x288 with 1 Axes>"
      ]
     },
     "metadata": {
      "needs_background": "light"
     },
     "output_type": "display_data"
    }
   ],
   "source": [
    "x_limits = 4\n",
    "y_limits = 5\n",
    "xgrid = np.linspace(-x_limits,x_limits)\n",
    "ygrid = np.linspace(-y_limits,y_limits)\n",
    "\n",
    "grid = np.array([[indicator(non_zero,[x,y],b)\n",
    "                 for x in xgrid]\n",
    "                for y in ygrid])\n",
    "\n",
    "plt.plot([p[0] for p in classA],\n",
    "        [p[1] for p in classA],\n",
    "        'b.')\n",
    "plt.plot([p[0] for p in classB],\n",
    "        [p[1] for p in classB],\n",
    "        'r.')\n",
    "\n",
    "plt.contour(xgrid,ygrid,grid,\n",
    "           (-1.0,0.0,1.0),\n",
    "           colors=('red','black','blue'),\n",
    "           linewidths=(1,3,1))\n",
    "\n",
    "\n",
    "plt.axis('equal')\n",
    "plt.savefig('svmplot.pdf')\n",
    "plt.show()\n",
    "\n"
   ]
  },
  {
   "cell_type": "code",
   "execution_count": null,
   "metadata": {},
   "outputs": [],
   "source": []
  }
 ],
 "metadata": {
  "kernelspec": {
   "display_name": "Python 3",
   "language": "python",
   "name": "python3"
  },
  "language_info": {
   "codemirror_mode": {
    "name": "ipython",
    "version": 3
   },
   "file_extension": ".py",
   "mimetype": "text/x-python",
   "name": "python",
   "nbconvert_exporter": "python",
   "pygments_lexer": "ipython3",
   "version": "3.6.9"
  }
 },
 "nbformat": 4,
 "nbformat_minor": 4
}
