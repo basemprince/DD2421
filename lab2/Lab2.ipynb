{
 "cells": [
  {
   "cell_type": "code",
   "execution_count": 1,
   "metadata": {},
   "outputs": [],
   "source": [
    "import numpy as np, random, math\n",
    "from scipy.optimize import minimize\n",
    "import matplotlib.pyplot as plt\n",
    "import collections"
   ]
  },
  {
   "cell_type": "markdown",
   "metadata": {},
   "source": [
    "Wirte a code for structuring the data so that the library routine can find the maximal-margin solution.<br>\n",
    "The location of the decesion boundary is given by the weights (w) and the bias (b).<br>\n",
    "find the values for w and b which maximizes the margin (distance to any datapoint).\n",
    "<img src=\"equations/optimize.png\">"
   ]
  },
  {
   "cell_type": "code",
   "execution_count": 2,
   "metadata": {},
   "outputs": [],
   "source": [
    "C = 1000\n",
    "upper = False\n",
    "threshold = 10**-5\n",
    "kernelType = 'pol'"
   ]
  },
  {
   "cell_type": "markdown",
   "metadata": {},
   "source": [
    "The objective equation (dual formulation)\n",
    "<img src=\"equations/objective.png\">\n",
    "\n",
    "the optimization problem can be transformed into a different form, called the dual problem, which has some computational advantages. It makes it possible to use the kernel trick, which eleminates the need for evualuating the transformation function"
   ]
  },
  {
   "cell_type": "code",
   "execution_count": 3,
   "metadata": {},
   "outputs": [],
   "source": [
    "def objective (alpha):\n",
    "    return 0.5*np.dot(alpha,np.dot(alpha,pre_compute)) - np.sum(alpha)"
   ]
  },
  {
   "cell_type": "markdown",
   "metadata": {},
   "source": [
    "the Kernel equations\n",
    "<img src=\"equations/linearK.png\">\n",
    "<img src=\"equations/polynomialK.png\">\n",
    "<img src=\"equations/RBFK.png\">"
   ]
  },
  {
   "cell_type": "code",
   "execution_count": 4,
   "metadata": {},
   "outputs": [],
   "source": [
    "def kernel(a,b,pol=2,sigma=2):\n",
    "    if kernelType == 'lin':\n",
    "        return np.dot(a,b)\n",
    "    \n",
    "    elif kernelType == 'pol':\n",
    "        return (np.dot(a,b) + 1)**pol\n",
    "    \n",
    "    elif kernelType == 'RBF':\n",
    "        return math.exp(-np.linalg.norm(np.subtract(a,b),ord=2)/(2*sigma**2))\n",
    "    else:\n",
    "        raise Exception(\"Kernel not found\")"
   ]
  },
  {
   "cell_type": "code",
   "execution_count": 5,
   "metadata": {},
   "outputs": [],
   "source": [
    "def zerofun (alpha):\n",
    "    return np.dot(alpha,targets)"
   ]
  },
  {
   "cell_type": "markdown",
   "metadata": {},
   "source": [
    "bias (b) Value:\n",
    "<img src=\"equations/b.png\">"
   ]
  },
  {
   "cell_type": "code",
   "execution_count": 6,
   "metadata": {},
   "outputs": [],
   "source": [
    "def b_calculator(non_zero):\n",
    "    b = 0\n",
    "    for current in non_zero:\n",
    "        b += current['alpha']*current['t']*kernel(non_zero[0]['in'],current['in'])\n",
    "    return b - non_zero[0]['t']"
   ]
  },
  {
   "cell_type": "markdown",
   "metadata": {},
   "source": [
    "indicator equation:\n",
    "<img src=\"equations/indicator.png\">"
   ]
  },
  {
   "cell_type": "code",
   "execution_count": 7,
   "metadata": {},
   "outputs": [],
   "source": [
    "def indicator(non_zero,unkown,b):\n",
    "    ind = 0\n",
    "    for current in non_zero:\n",
    "        ind += current['alpha']*current['t']*kernel(unkown,current['in'])\n",
    "    return ind - b    \n",
    "    "
   ]
  },
  {
   "cell_type": "code",
   "execution_count": 8,
   "metadata": {},
   "outputs": [],
   "source": [
    "#np.random.seed(100)\n",
    "classA = np.concatenate((np.random.randn(10,2)*0.2+[1.5,0.5],\n",
    "                        np.random.rand(10,2)*0.2+[-1.5,0.5]))\n",
    "classB = np.random.randn(20,2)*0.2+[0.0,-0.5]\n",
    "\n",
    "inputs = np.concatenate ((classA,classB))\n",
    "targets = np.concatenate (\n",
    "(np.ones(classA.shape[0]),\n",
    "-np.ones(classB.shape[0])))\n",
    "\n",
    "N = inputs.shape[0]\n",
    "\n",
    "permute = list(range(N))\n",
    "random.shuffle(permute)\n",
    "inputs = inputs[permute, :]\n",
    "targets = targets [permute]"
   ]
  },
  {
   "cell_type": "code",
   "execution_count": 9,
   "metadata": {},
   "outputs": [],
   "source": [
    "pre_compute = np.zeros(shape=(N,N))\n",
    "for i in range(N):\n",
    "    for j in range(N):\n",
    "        pre_compute[i][j]=targets[i]*targets[j]*kernel(inputs[i],inputs[j])"
   ]
  },
  {
   "cell_type": "code",
   "execution_count": 10,
   "metadata": {
    "scrolled": true
   },
   "outputs": [
    {
     "data": {
      "image/png": "[encoded data removed]",
      "text/plain": [
       "<Figure size 432x288 with 1 Axes>"
      ]
     },
     "metadata": {
      "needs_background": "light"
     },
     "output_type": "display_data"
    }
   ],
   "source": [
    "plt.plot([p[0] for p in classA],\n",
    "        [p[1] for p in classA],\n",
    "        'b.')\n",
    "plt.plot([p[0] for p in classB],\n",
    "        [p[1] for p in classB],\n",
    "        'r.')\n",
    "\n",
    "plt.axis('equal')\n",
    "plt.savefig('svmplot.pdf')\n",
    "plt.show()"
   ]
  },
  {
   "cell_type": "code",
   "execution_count": 11,
   "metadata": {},
   "outputs": [
    {
     "name": "stdout",
     "output_type": "stream",
     "text": [
      "     fun: -0.6259571018677783\n",
      "     jac: array([ 2.53391879,  1.54619292, -0.66991808,  0.9053752 ,  3.39399078,\n",
      "        0.85554816, -0.57112041,  1.77714441, -0.65794178, -0.5618097 ,\n",
      "        1.13119694, -0.51081048, -0.74835564, -0.76219051, -0.67530869,\n",
      "        2.20067786,  0.85552047,  0.8563278 , -0.64713641,  0.92033953,\n",
      "        1.02926326, -0.46453959, -0.46461038, -0.59035853, -0.32117444,\n",
      "       -0.56377206,  0.9881973 , -0.50535651,  2.34780175,  1.34795926,\n",
      "        1.19030945, -0.82822581,  0.85543963, -0.85621992,  2.06909688,\n",
      "        1.09551863, -0.55886618, -0.66005386,  0.99935243, -0.70218846])\n",
      " message: 'Optimization terminated successfully'\n",
      "    nfev: 536\n",
      "     nit: 13\n",
      "    njev: 13\n",
      "  status: 0\n",
      " success: True\n",
      "       x: array([0.00000000e+00, 2.98981836e-16, 0.00000000e+00, 5.47785975e-18,\n",
      "       9.19041664e-16, 8.36616376e-02, 1.99836544e-16, 0.00000000e+00,\n",
      "       0.00000000e+00, 5.43183352e-17, 8.94536536e-17, 1.22135660e-16,\n",
      "       7.04737127e-16, 4.39655935e-16, 0.00000000e+00, 0.00000000e+00,\n",
      "       1.21033838e-01, 1.03348132e-01, 0.00000000e+00, 2.64294923e-17,\n",
      "       0.00000000e+00, 3.51491366e-16, 2.92652233e-16, 0.00000000e+00,\n",
      "       3.01716767e-16, 1.91575119e-16, 0.00000000e+00, 2.66926131e-16,\n",
      "       0.00000000e+00, 0.00000000e+00, 1.01002284e-16, 0.00000000e+00,\n",
      "       3.17724656e-01, 6.25768264e-01, 5.65357461e-16, 2.05950580e-16,\n",
      "       0.00000000e+00, 0.00000000e+00, 6.12788681e-16, 6.89338549e-16])\n"
     ]
    }
   ],
   "source": [
    "initial_guess = np.zeros(N)\n",
    "\n",
    "\n",
    "if upper:\n",
    "    B= [(0,C) for b in range(N)]\n",
    "else:\n",
    "    B= [(0,None) for b in range(N)]\n",
    "\n",
    "XC = {'type':'eq','fun':zerofun}\n",
    "\n",
    "ret = minimize(objective,initial_guess,bounds=B,constraints=XC)\n",
    "alpha = ret['x']\n",
    "print(ret)"
   ]
  },
  {
   "cell_type": "code",
   "execution_count": 12,
   "metadata": {},
   "outputs": [
    {
     "data": {
      "text/plain": [
       "[{'alpha': 0.08366163764692093,\n",
       "  'in': array([1.26476081, 0.08662865]),\n",
       "  't': 1.0},\n",
       " {'alpha': 0.12103383810624559,\n",
       "  'in': array([-1.33945254,  0.55955607]),\n",
       "  't': 1.0},\n",
       " {'alpha': 0.10334813163601728,\n",
       "  'in': array([-1.33843646,  0.56301004]),\n",
       "  't': 1.0},\n",
       " {'alpha': 0.3177246562258068,\n",
       "  'in': array([1.13044572, 0.45152573]),\n",
       "  't': 1.0},\n",
       " {'alpha': 0.6257682636149912,\n",
       "  'in': array([ 0.085454  , -0.21239173]),\n",
       "  't': -1.0}]"
      ]
     },
     "execution_count": 12,
     "metadata": {},
     "output_type": "execute_result"
    }
   ],
   "source": [
    "non_zero = []\n",
    "for i, a in enumerate(alpha):\n",
    "    #print(a)\n",
    "    if a > threshold:\n",
    "        non_zero.append({'alpha':a,'in':inputs[i],'t':targets[i]})\n",
    "non_zero"
   ]
  },
  {
   "cell_type": "code",
   "execution_count": 13,
   "metadata": {},
   "outputs": [],
   "source": [
    "b = b_calculator(non_zero)"
   ]
  },
  {
   "cell_type": "code",
   "execution_count": 14,
   "metadata": {},
   "outputs": [
    {
     "data": {
      "image/png": "[encoded data removed]",
      "text/plain": [
       "<Figure size 432x288 with 1 Axes>"
      ]
     },
     "metadata": {
      "needs_background": "light"
     },
     "output_type": "display_data"
    }
   ],
   "source": [
    "x_limits = 4\n",
    "y_limits = 5\n",
    "xgrid = np.linspace(-x_limits,x_limits)\n",
    "ygrid = np.linspace(-y_limits,y_limits)\n",
    "\n",
    "grid = np.array([[indicator(non_zero,[x,y],b)\n",
    "                 for x in xgrid]\n",
    "                for y in ygrid])\n",
    "\n",
    "plt.plot([p[0] for p in classA],\n",
    "        [p[1] for p in classA],\n",
    "        'b.')\n",
    "plt.plot([p[0] for p in classB],\n",
    "        [p[1] for p in classB],\n",
    "        'r.')\n",
    "\n",
    "plt.contour(xgrid,ygrid,grid,\n",
    "           (-1.0,0.0,1.0),\n",
    "           colors=('red','black','blue'),\n",
    "           linewidths=(1,3,1))\n",
    "\n",
    "\n",
    "plt.axis('equal')\n",
    "plt.savefig('svmplot.pdf')\n",
    "plt.show()"
   ]
  },
  {
   "cell_type": "code",
   "execution_count": null,
   "metadata": {},
   "outputs": [],
   "source": []
  }
 ],
 "metadata": {
  "kernelspec": {
   "display_name": "Python 3",
   "language": "python",
   "name": "python3"
  },
  "language_info": {
   "codemirror_mode": {
    "name": "ipython",
    "version": 3
   },
   "file_extension": ".py",
   "mimetype": "text/x-python",
   "name": "python",
   "nbconvert_exporter": "python",
   "pygments_lexer": "ipython3",
   "version": "3.6.9"
  }
 },
 "nbformat": 4,
 "nbformat_minor": 4
}
