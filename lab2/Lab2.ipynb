{
 "cells": [
  {
   "cell_type": "code",
   "execution_count": 1,
   "metadata": {
    "scrolled": false
   },
   "outputs": [],
   "source": [
    "import numpy as np, random, math\n",
    "from scipy.optimize import minimize\n",
    "import matplotlib.pyplot as plt\n",
    "import collections"
   ]
  },
  {
   "cell_type": "markdown",
   "metadata": {},
   "source": [
    "&bull; Wirte a code for structuring the data so that the library routine can find the maximal-margin solution.<br>\n",
    "&bull; The location of the decesion boundary is given by the weights (w) and the bias (b).<br>\n",
    "&bull; Find the values for w and b which maximizes the margin (distance to any datapoint).\n",
    "<img src=\"equations/optimize.png\">"
   ]
  },
  {
   "cell_type": "markdown",
   "metadata": {},
   "source": [
    "&bull; &uarr; C value will result in &darr; Slack, which will result in narrower margin\n",
    "\n",
    "&bull; If you have noisy data -> use low C value to allow for more slack"
   ]
  },
  {
   "cell_type": "markdown",
   "metadata": {},
   "source": [
    "# Variables:"
   ]
  },
  {
   "cell_type": "code",
   "execution_count": 22,
   "metadata": {
    "scrolled": false
   },
   "outputs": [],
   "source": [
    "C = 2\n",
    "upper = False # upper boundary for bounds\n",
    "threshold = 10**-5 # zero threshold\n",
    "kernelType = 'pol' # type of kernel (lin,pol,RBF)\n",
    "np.random.seed(100)\n",
    "pointsN=40 # number of data points\n",
    "SD = 0.2 #standard Deviation in the data\n",
    "#kernel settings\n",
    "pol = 4 #polynomial degree\n",
    "sigma = 4 #smoothness of curve in RBF kernel"
   ]
  },
  {
   "cell_type": "markdown",
   "metadata": {},
   "source": [
    "&bull; The objective equation (dual formulation)\n",
    "<img src=\"equations/objective.png\">\n",
    "\n",
    "&bull; The optimization problem can be transformed into a different form, called the dual problem, which has some computational advantages.<br>\n",
    "&bull; It makes it possible to use the kernel trick, which eleminates the need for evualuating the transformation function."
   ]
  },
  {
   "cell_type": "code",
   "execution_count": 3,
   "metadata": {
    "scrolled": false
   },
   "outputs": [],
   "source": [
    "def objective (alpha):\n",
    "    return 0.5*np.dot(alpha,np.dot(alpha,pre_compute)) - np.sum(alpha)"
   ]
  },
  {
   "cell_type": "markdown",
   "metadata": {},
   "source": [
    "the Kernel equations:\n",
    "<img src=\"equations/linearK.png\">\n",
    "<img src=\"equations/polynomialK.png\">\n",
    "<img src=\"equations/RBFK.png\">"
   ]
  },
  {
   "cell_type": "code",
   "execution_count": 4,
   "metadata": {
    "scrolled": false
   },
   "outputs": [],
   "source": [
    "def kernel(a,b,pol,sigma):\n",
    "    if kernelType == 'lin':\n",
    "        return np.dot(a,b)\n",
    "    \n",
    "    elif kernelType == 'pol':\n",
    "        return (np.dot(a,b) + 1)**pol\n",
    "    \n",
    "    elif kernelType == 'RBF':\n",
    "        return math.exp(-np.linalg.norm(np.subtract(a,b),ord=2)/(2*sigma**2))\n",
    "    else:\n",
    "        raise Exception(\"Kernel not found\")"
   ]
  },
  {
   "cell_type": "markdown",
   "metadata": {},
   "source": [
    "Lagrange multiplier constraints:\n",
    "<img src=\"equations/constraint.png\">"
   ]
  },
  {
   "cell_type": "code",
   "execution_count": 5,
   "metadata": {
    "scrolled": false
   },
   "outputs": [],
   "source": [
    "def zerofun (alpha):\n",
    "    \n",
    "    return np.dot(alpha,targets)"
   ]
  },
  {
   "cell_type": "markdown",
   "metadata": {},
   "source": [
    "bias (b) Value:\n",
    "<img src=\"equations/b.png\">"
   ]
  },
  {
   "cell_type": "code",
   "execution_count": 6,
   "metadata": {
    "scrolled": false
   },
   "outputs": [],
   "source": [
    "def b_calculator(non_zero):\n",
    "    b = 0\n",
    "    for current in non_zero:\n",
    "        b += current['alpha']*current['t']*kernel(non_zero[2]['in'],current['in'],pol,sigma)\n",
    "    return b - non_zero[2]['t']"
   ]
  },
  {
   "cell_type": "markdown",
   "metadata": {},
   "source": [
    "indicator equation:\n",
    "<img src=\"equations/indicator.png\">"
   ]
  },
  {
   "cell_type": "code",
   "execution_count": 7,
   "metadata": {
    "scrolled": false
   },
   "outputs": [],
   "source": [
    "def indicator(non_zero,unkown,b):\n",
    "    ind = 0\n",
    "    for current in non_zero:\n",
    "        ind += current['alpha']*current['t']*kernel(unkown,current['in'],pol,sigma)\n",
    "    return ind - b"
   ]
  },
  {
   "cell_type": "code",
   "execution_count": 8,
   "metadata": {
    "scrolled": false
   },
   "outputs": [],
   "source": [
    "classA = np.concatenate((np.random.randn(int(pointsN/2),2)*SD+[1.5,0.5],\n",
    "                        np.random.rand(int(pointsN/2),2)*SD+[-1.5,0.5]))\n",
    "classB = np.random.randn(pointsN,2)*SD+[0.0,-0.5]\n",
    "\n",
    "inputs = np.concatenate ((classA,classB))\n",
    "targets = np.concatenate (\n",
    "(np.ones(classA.shape[0]),\n",
    "-np.ones(classB.shape[0])))\n",
    "\n",
    "N = inputs.shape[0]\n",
    "\n",
    "permute = list(range(N))\n",
    "random.shuffle(permute)\n",
    "inputs = inputs[permute, :]\n",
    "targets = targets [permute]"
   ]
  },
  {
   "cell_type": "code",
   "execution_count": 23,
   "metadata": {
    "scrolled": false
   },
   "outputs": [],
   "source": [
    "pre_compute = np.zeros(shape=(N,N))\n",
    "for i in range(N):\n",
    "    for j in range(N):\n",
    "        pre_compute[i][j]=targets[i]*targets[j]*kernel(inputs[i],inputs[j],pol,sigma)"
   ]
  },
  {
   "cell_type": "code",
   "execution_count": 24,
   "metadata": {
    "scrolled": false
   },
   "outputs": [
    {
     "data": {
      "image/png": "[encoded data removed]",
      "text/plain": [
       "<Figure size 432x288 with 1 Axes>"
      ]
     },
     "metadata": {
      "needs_background": "light"
     },
     "output_type": "display_data"
    }
   ],
   "source": [
    "plt.plot([p[0] for p in classA],\n",
    "        [p[1] for p in classA],\n",
    "        'b.')\n",
    "plt.plot([p[0] for p in classB],\n",
    "        [p[1] for p in classB],\n",
    "        'r.')\n",
    "\n",
    "plt.axis('equal')\n",
    "plt.savefig('svmplot.pdf')\n",
    "plt.show()"
   ]
  },
  {
   "cell_type": "code",
   "execution_count": 25,
   "metadata": {
    "scrolled": false
   },
   "outputs": [
    {
     "name": "stdout",
     "output_type": "stream",
     "text": [
      "zero_function result:  1.3551659794330817e-13\n",
      "     fun: -0.07219084096074102\n",
      "     jac: array([ 1.4398605 ,  1.86245344, -0.99066477, -0.97397688, -0.99175383,\n",
      "        1.50838223,  1.19782249,  2.25969307, -0.9689492 , -0.86683245,\n",
      "       -0.86669385,  2.52017134,  1.54701087,  4.2390855 , -0.87365033,\n",
      "        1.29913574,  3.54251376, -0.89884243, -0.85071545, -0.90158741,\n",
      "       -0.92055565, -0.84580073,  1.76812294, -0.84109685, -0.95033852,\n",
      "       -0.91421866, -0.88686316, -0.90210467, -0.95553041, -0.89185663,\n",
      "       -0.99881054,  3.20471622, -0.84688346, -1.0044717 , -0.93682843,\n",
      "        1.62540959, -0.90157345, -0.95822966,  5.79327594,  1.16762578,\n",
      "       -0.92614061,  1.0028043 ,  1.47524455,  1.38386936,  2.03376777,\n",
      "        3.73540954, -0.83225315, -0.77337546,  2.13637906, -0.86521364,\n",
      "        4.22431326,  1.1848193 , -0.94587753, -1.00371878,  3.53219706,\n",
      "       -0.92951395, -0.93810804,  2.22189468,  1.07591637,  1.32437637,\n",
      "       -0.93567947, -0.84672654,  1.46059944,  1.01432264,  1.40068579,\n",
      "       -0.88523914,  1.00339247,  2.30418848, -0.92035346,  2.62016238,\n",
      "        1.07292165, -0.87853353,  2.50602344,  2.33798177,  1.68414607,\n",
      "        1.14264759, -0.84117722,  4.15350504, -0.91918616,  1.14524393])\n",
      " message: 'Optimization terminated successfully'\n",
      "    nfev: 734\n",
      "     nit: 9\n",
      "    njev: 9\n",
      "  status: 0\n",
      " success: True\n",
      "       x: array([0.00000000e+00, 4.22193456e-15, 0.00000000e+00, 5.35647796e-16,\n",
      "       0.00000000e+00, 0.00000000e+00, 0.00000000e+00, 3.04395233e-15,\n",
      "       1.28348428e-15, 6.15348013e-16, 0.00000000e+00, 1.63070972e-15,\n",
      "       0.00000000e+00, 1.23960362e-14, 4.07705481e-16, 0.00000000e+00,\n",
      "       1.17028535e-14, 6.61117851e-16, 1.52597695e-15, 0.00000000e+00,\n",
      "       2.64125460e-16, 2.21199318e-16, 0.00000000e+00, 3.49759848e-16,\n",
      "       0.00000000e+00, 5.90887157e-16, 4.86845536e-17, 1.01296241e-15,\n",
      "       1.91470668e-16, 1.08763215e-16, 0.00000000e+00, 9.79114066e-15,\n",
      "       4.81583389e-16, 3.50861799e-02, 0.00000000e+00, 0.00000000e+00,\n",
      "       3.78953592e-16, 4.34349068e-17, 2.10857463e-14, 0.00000000e+00,\n",
      "       6.20793668e-16, 2.30956822e-02, 0.00000000e+00, 0.00000000e+00,\n",
      "       9.92897477e-16, 9.27871561e-15, 4.08131588e-16, 0.00000000e+00,\n",
      "       5.33539525e-15, 2.74198982e-16, 1.51313413e-14, 0.00000000e+00,\n",
      "       8.41047362e-17, 3.70728705e-02, 1.62602565e-14, 4.87445416e-16,\n",
      "       5.01785952e-16, 2.83050060e-15, 0.00000000e+00, 0.00000000e+00,\n",
      "       6.44147644e-16, 5.28974868e-16, 0.00000000e+00, 0.00000000e+00,\n",
      "       0.00000000e+00, 1.72842083e-16, 4.90633682e-02, 4.19979296e-15,\n",
      "       0.00000000e+00, 8.17028304e-15, 0.00000000e+00, 4.39567608e-16,\n",
      "       7.00243629e-15, 2.62601022e-15, 0.00000000e+00, 0.00000000e+00,\n",
      "       2.11957388e-16, 9.78666604e-15, 2.58736827e-16, 0.00000000e+00])\n"
     ]
    }
   ],
   "source": [
    "initial_guess = np.zeros(N)\n",
    "\n",
    "\n",
    "if upper:\n",
    "    B= [(0,C) for b in range(N)]\n",
    "else:\n",
    "    B= [(0,None) for b in range(N)]\n",
    "\n",
    "XC = {'type':'eq','fun':zerofun}\n",
    "\n",
    "ret = minimize(objective,initial_guess,bounds=B,constraints=XC)\n",
    "\n",
    "alpha = ret['x']\n",
    "print (\"zero_function result: \", np.dot(alpha,targets))\n",
    "print(ret)"
   ]
  },
  {
   "cell_type": "code",
   "execution_count": 26,
   "metadata": {
    "scrolled": false
   },
   "outputs": [
    {
     "data": {
      "text/plain": [
       "[{'alpha': 0.035086179934087455,\n",
       "  'in': array([ 0.45973079, -0.53304191]),\n",
       "  't': -1.0},\n",
       " {'alpha': 0.023095682243462326,\n",
       "  'in': array([-1.30859748,  0.61959474]),\n",
       "  't': 1.0},\n",
       " {'alpha': 0.037072870500002054,\n",
       "  'in': array([-0.3081232 , -0.09065721]),\n",
       "  't': -1.0},\n",
       " {'alpha': 0.04906336819063057,\n",
       "  'in': array([1.22872019, 0.2535131 ]),\n",
       "  't': 1.0}]"
      ]
     },
     "execution_count": 26,
     "metadata": {},
     "output_type": "execute_result"
    }
   ],
   "source": [
    "non_zero = []\n",
    "for i, a in enumerate(alpha):\n",
    "    #print(a)\n",
    "    if a > threshold:\n",
    "        non_zero.append({'alpha':a,'in':inputs[i],'t':targets[i]})\n",
    "non_zero"
   ]
  },
  {
   "cell_type": "code",
   "execution_count": 27,
   "metadata": {
    "scrolled": false
   },
   "outputs": [],
   "source": [
    "b = b_calculator(non_zero)"
   ]
  },
  {
   "cell_type": "code",
   "execution_count": 28,
   "metadata": {
    "scrolled": false
   },
   "outputs": [
    {
     "data": {
      "image/png": "[encoded data removed]",
      "text/plain": [
       "<Figure size 432x288 with 1 Axes>"
      ]
     },
     "metadata": {
      "needs_background": "light"
     },
     "output_type": "display_data"
    }
   ],
   "source": [
    "x_limits = 4\n",
    "y_limits = 5\n",
    "xgrid = np.linspace(-x_limits,x_limits)\n",
    "ygrid = np.linspace(-y_limits,y_limits)\n",
    "\n",
    "grid = np.array([[indicator(non_zero,[x,y],b)\n",
    "                 for x in xgrid]\n",
    "                for y in ygrid])\n",
    "if ret['success']==True:\n",
    "    plt.plot([p[0] for p in classA],\n",
    "            [p[1] for p in classA],\n",
    "            'b.')\n",
    "    plt.plot([p[0] for p in classB],\n",
    "            [p[1] for p in classB],\n",
    "            'r.')\n",
    "\n",
    "    plt.contour(xgrid,ygrid,grid,\n",
    "               (-1.0,0.0,1.0),\n",
    "               colors=('red','black','blue'),\n",
    "               linewidths=(1,3,1))\n",
    "\n",
    "\n",
    "    plt.axis('equal')\n",
    "    plt.savefig('svmplot.pdf')\n",
    "    plt.show()\n",
    "else:\n",
    "    print('Minimization failed succesfully')"
   ]
  },
  {
   "cell_type": "markdown",
   "metadata": {},
   "source": [
    "# ASSIGNMENT QUESTIONS"
   ]
  },
  {
   "cell_type": "markdown",
   "metadata": {},
   "source": [
    "<u><b>Question 1:</b></u> Move the clusters around and change their sizes to make it easier or harder for the classifier to find a decent boundary. Pay attention to when the optimizer (minimize function) is not able to find a solution at all. <br><br>\n",
    "<b>Answer:</b> The optimizer was not able to find a solution once the standard deviation went over 0.6. The higher the standard deviation generated data that cannot be separated with a straight line. XC constraint is not equal to zero.\n",
    "<img src=\"equations/SD.png\">"
   ]
  },
  {
   "cell_type": "markdown",
   "metadata": {},
   "source": [
    "<u><b>Question 2:</u></b> Implement the two non-linear kernels. You should be able to classify very hard data sets with these. <br><br>\n",
    "<u><b>Answer:</u></b> <br>\n",
    "Polynomial Kernel (400 datapoints,0.3SD)<img src=\"equations/pol-1.png\">\n",
    "RBF Kernel (40 datapoints,1.2SD)<img src=\"equations/RBF-1.png\">"
   ]
  },
  {
   "cell_type": "markdown",
   "metadata": {},
   "source": [
    "<u><b>Question 3:</u></b> The non-linear kernels have parameters; explore how they influence the decision boundary. Reason about this in terms of the bias- variance trade-off. <br><br>\n",
    "<u><b>Answer:</u></b> <br>\n",
    "\n",
    "&bull; polynomial degree - Polynomial Kernel:\n",
    "\n",
    "The higher the degree, the more complex the polynomial. Bias decreases while Variance increases with higher degree polynomials.\n",
    "\n",
    "<img src=\"equations/pol-2.png\">\n",
    "<img src=\"equations/pol-3.png\">\n",
    "<img src=\"equations/pol-4.png\">\n",
    "\n",
    "&bull; Sigma - RBF Kernel:\n",
    "\n",
    "The curve smoothness increases with higher sigma values. This causes the curve to get straighter. With a straighter curve, the Bias increases, and the Variance decreases.\n",
    "<img src=\"equations/RBF-2.png\">\n",
    "<img src=\"equations/RBF-3.png\">\n",
    "<img src=\"equations/RBF-4.png\">"
   ]
  },
  {
   "cell_type": "markdown",
   "metadata": {},
   "source": [
    "<u><b>Question 4:</u></b> Explore the role of the slack parameter C. What happens for very large/small values?<br><br>\n",
    "<u><b>Answer:</u></b> <br>\n",
    "&bull; the C parameter sets the upper boundary on the alpha values. Lower C value allows for points to be within the margin. (see fig, C=2)<br>\n",
    "&bull; &uarr; C value will result in &darr; Slack, which will result in narrower margin.<br>\n",
    "&bull; If you have noisy data -> use low C value to allow for more slack.\n",
    "<img src=\"equations/C-1.png\">"
   ]
  },
  {
   "cell_type": "markdown",
   "metadata": {},
   "source": [
    "<u><b>Question 5:</u></b> Imagine that you are given data that is not easily separable. When should you opt for more slack rather than going for a more complex model (kernel) and vice versa?<br><br>\n",
    "<u><b>Answer:</u></b> <br>\n",
    "\n",
    "If the data is complex because of the presnece of outliers, then its best to use more slack. If the data has a higher standard deviation (more spread out), or impossible to classify with a straight line, then it is more relevant to use a complex kernel."
   ]
  },
  {
   "cell_type": "code",
   "execution_count": null,
   "metadata": {
    "scrolled": true
   },
   "outputs": [],
   "source": []
  }
 ],
 "metadata": {
  "kernelspec": {
   "display_name": "Python 3",
   "language": "python",
   "name": "python3"
  },
  "language_info": {
   "codemirror_mode": {
    "name": "ipython",
    "version": 3
   },
   "file_extension": ".py",
   "mimetype": "text/x-python",
   "name": "python",
   "nbconvert_exporter": "python",
   "pygments_lexer": "ipython3",
   "version": "3.6.9"
  }
 },
 "nbformat": 4,
 "nbformat_minor": 4
}
